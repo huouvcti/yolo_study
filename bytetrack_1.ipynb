{
 "cells": [
  {
   "cell_type": "code",
   "execution_count": 1,
   "id": "decb1645",
   "metadata": {},
   "outputs": [
    {
     "name": "stdout",
     "output_type": "stream",
     "text": [
      "'ByteTrack'에 복제합니다...\n",
      "remote: Enumerating objects: 2007, done.\u001b[K\n",
      "remote: Counting objects: 100% (552/552), done.\u001b[K\n",
      "remote: Compressing objects: 100% (89/89), done.\u001b[K\n",
      "remote: Total 2007 (delta 486), reused 464 (delta 463), pack-reused 1455\u001b[K\n",
      "오브젝트를 받는 중: 100% (2007/2007), 79.61 MiB | 10.98 MiB/s, 완료.\n",
      "델타를 알아내는 중: 100% (1144/1144), 완료.\n"
     ]
    }
   ],
   "source": [
    "!git clone https://github.com/ifzhang/ByteTrack.git"
   ]
  },
  {
   "cell_type": "code",
   "execution_count": 2,
   "id": "f244a5db",
   "metadata": {},
   "outputs": [
    {
     "name": "stdout",
     "output_type": "stream",
     "text": [
      "/home/uit-na/Desktop/yolo_study/ByteTrack\n"
     ]
    }
   ],
   "source": [
    "cd ByteTrack"
   ]
  },
  {
   "cell_type": "code",
   "execution_count": 6,
   "id": "31015503",
   "metadata": {},
   "outputs": [
    {
     "name": "stdout",
     "output_type": "stream",
     "text": [
      "Requirement already satisfied: numpy in /home/uit-na/anaconda3/envs/hello/lib/python3.9/site-packages (from -r requirements.txt (line 2)) (1.21.5)\n",
      "Requirement already satisfied: torch>=1.7 in /home/uit-na/anaconda3/envs/hello/lib/python3.9/site-packages (from -r requirements.txt (line 3)) (1.12.1)\n",
      "Requirement already satisfied: opencv_python in /home/uit-na/anaconda3/envs/hello/lib/python3.9/site-packages (from -r requirements.txt (line 4)) (4.6.0.66)\n",
      "Collecting loguru\n",
      "  Using cached loguru-0.6.0-py3-none-any.whl (58 kB)\n",
      "Requirement already satisfied: scikit-image in /home/uit-na/anaconda3/envs/hello/lib/python3.9/site-packages (from -r requirements.txt (line 6)) (0.19.2)\n",
      "Requirement already satisfied: tqdm in /home/uit-na/anaconda3/envs/hello/lib/python3.9/site-packages (from -r requirements.txt (line 7)) (4.64.1)\n",
      "Requirement already satisfied: torchvision>=0.10.0 in /home/uit-na/anaconda3/envs/hello/lib/python3.9/site-packages (from -r requirements.txt (line 8)) (0.13.1)\n",
      "Requirement already satisfied: Pillow in /home/uit-na/anaconda3/envs/hello/lib/python3.9/site-packages (from -r requirements.txt (line 9)) (9.2.0)\n",
      "Requirement already satisfied: thop in /home/uit-na/anaconda3/envs/hello/lib/python3.9/site-packages (from -r requirements.txt (line 10)) (0.1.1.post2209072238)\n",
      "Collecting ninja\n",
      "  Using cached ninja-1.11.1-py2.py3-none-manylinux_2_12_x86_64.manylinux2010_x86_64.whl (145 kB)\n",
      "Requirement already satisfied: tabulate in /home/uit-na/anaconda3/envs/hello/lib/python3.9/site-packages (from -r requirements.txt (line 12)) (0.8.10)\n",
      "Requirement already satisfied: tensorboard in /home/uit-na/anaconda3/envs/hello/lib/python3.9/site-packages (from -r requirements.txt (line 13)) (2.10.1)\n",
      "Collecting lap\n",
      "  Using cached lap-0.4.0.tar.gz (1.5 MB)\n",
      "  Preparing metadata (setup.py) ... \u001b[?25ldone\n",
      "\u001b[?25hCollecting motmetrics\n",
      "  Using cached motmetrics-1.4.0-py3-none-any.whl (161 kB)\n",
      "Collecting filterpy\n",
      "  Using cached filterpy-1.4.5.zip (177 kB)\n",
      "  Preparing metadata (setup.py) ... \u001b[?25ldone\n",
      "\u001b[?25hRequirement already satisfied: h5py in /home/uit-na/anaconda3/envs/hello/lib/python3.9/site-packages (from -r requirements.txt (line 17)) (3.7.0)\n",
      "Collecting onnx==1.8.1\n",
      "  Using cached onnx-1.8.1.tar.gz (5.2 MB)\n",
      "  Installing build dependencies ... \u001b[?25ldone\n",
      "\u001b[?25h  Getting requirements to build wheel ... \u001b[?25lerror\n",
      "  \u001b[1;31merror\u001b[0m: \u001b[1msubprocess-exited-with-error\u001b[0m\n",
      "  \n",
      "  \u001b[31m×\u001b[0m \u001b[32mGetting requirements to build wheel\u001b[0m did not run successfully.\n",
      "  \u001b[31m│\u001b[0m exit code: \u001b[1;36m1\u001b[0m\n",
      "  \u001b[31m╰─>\u001b[0m \u001b[31m[18 lines of output]\u001b[0m\n",
      "  \u001b[31m   \u001b[0m fatal: (현재 폴더 또는 상위 폴더 중 일부가) 깃 저장소가 아닙니다: .git\n",
      "  \u001b[31m   \u001b[0m Traceback (most recent call last):\n",
      "  \u001b[31m   \u001b[0m   File \"/home/uit-na/anaconda3/envs/hello/lib/python3.9/site-packages/pip/_vendor/pep517/in_process/_in_process.py\", line 351, in <module>\n",
      "  \u001b[31m   \u001b[0m     main()\n",
      "  \u001b[31m   \u001b[0m   File \"/home/uit-na/anaconda3/envs/hello/lib/python3.9/site-packages/pip/_vendor/pep517/in_process/_in_process.py\", line 333, in main\n",
      "  \u001b[31m   \u001b[0m     json_out['return_val'] = hook(**hook_input['kwargs'])\n",
      "  \u001b[31m   \u001b[0m   File \"/home/uit-na/anaconda3/envs/hello/lib/python3.9/site-packages/pip/_vendor/pep517/in_process/_in_process.py\", line 118, in get_requires_for_build_wheel\n",
      "  \u001b[31m   \u001b[0m     return hook(config_settings)\n",
      "  \u001b[31m   \u001b[0m   File \"/tmp/pip-build-env-spikibku/overlay/lib/python3.9/site-packages/setuptools/build_meta.py\", line 338, in get_requires_for_build_wheel\n",
      "  \u001b[31m   \u001b[0m     return self._get_build_requires(config_settings, requirements=['wheel'])\n",
      "  \u001b[31m   \u001b[0m   File \"/tmp/pip-build-env-spikibku/overlay/lib/python3.9/site-packages/setuptools/build_meta.py\", line 320, in _get_build_requires\n",
      "  \u001b[31m   \u001b[0m     self.run_setup()\n",
      "  \u001b[31m   \u001b[0m   File \"/tmp/pip-build-env-spikibku/overlay/lib/python3.9/site-packages/setuptools/build_meta.py\", line 484, in run_setup\n",
      "  \u001b[31m   \u001b[0m     super(_BuildMetaLegacyBackend,\n",
      "  \u001b[31m   \u001b[0m   File \"/tmp/pip-build-env-spikibku/overlay/lib/python3.9/site-packages/setuptools/build_meta.py\", line 335, in run_setup\n",
      "  \u001b[31m   \u001b[0m     exec(code, locals())\n",
      "  \u001b[31m   \u001b[0m   File \"<string>\", line 75, in <module>\n",
      "  \u001b[31m   \u001b[0m AssertionError: Could not find \"cmake\" executable!\n",
      "  \u001b[31m   \u001b[0m \u001b[31m[end of output]\u001b[0m\n",
      "  \n",
      "  \u001b[1;35mnote\u001b[0m: This error originates from a subprocess, and is likely not a problem with pip.\n",
      "\u001b[1;31merror\u001b[0m: \u001b[1msubprocess-exited-with-error\u001b[0m\n",
      "\n",
      "\u001b[31m×\u001b[0m \u001b[32mGetting requirements to build wheel\u001b[0m did not run successfully.\n",
      "\u001b[31m│\u001b[0m exit code: \u001b[1;36m1\u001b[0m\n",
      "\u001b[31m╰─>\u001b[0m See above for output.\n",
      "\n",
      "\u001b[1;35mnote\u001b[0m: This error originates from a subprocess, and is likely not a problem with pip.\n",
      "\u001b[?25h"
     ]
    }
   ],
   "source": [
    "!pip install -r requirements.txt"
   ]
  },
  {
   "cell_type": "code",
   "execution_count": 7,
   "id": "77f66375",
   "metadata": {},
   "outputs": [
    {
     "name": "stdout",
     "output_type": "stream",
     "text": [
      "running develop\n",
      "/home/uit-na/anaconda3/envs/hello/lib/python3.9/site-packages/setuptools/command/easy_install.py:144: EasyInstallDeprecationWarning: easy_install command is deprecated. Use build and pip and other standards-based tools.\n",
      "  warnings.warn(\n",
      "/home/uit-na/anaconda3/envs/hello/lib/python3.9/site-packages/setuptools/command/install.py:34: SetuptoolsDeprecationWarning: setup.py install is deprecated. Use build and pip and other standards-based tools.\n",
      "  warnings.warn(\n",
      "running egg_info\n",
      "creating yolox.egg-info\n",
      "writing yolox.egg-info/PKG-INFO\n",
      "writing dependency_links to yolox.egg-info/dependency_links.txt\n",
      "writing top-level names to yolox.egg-info/top_level.txt\n",
      "writing manifest file 'yolox.egg-info/SOURCES.txt'\n",
      "/home/uit-na/anaconda3/envs/hello/lib/python3.9/site-packages/torch/utils/cpp_extension.py:411: UserWarning: Attempted to use ninja as the BuildExtension backend but we could not find ninja.. Falling back to using the slow distutils backend.\n",
      "  warnings.warn(msg.format('we could not find ninja.'))\n",
      "reading manifest file 'yolox.egg-info/SOURCES.txt'\n",
      "adding license file 'LICENSE'\n",
      "writing manifest file 'yolox.egg-info/SOURCES.txt'\n",
      "running build_ext\n",
      "building 'yolox._C' extension\n",
      "creating build\n",
      "creating build/temp.linux-x86_64-cpython-39\n",
      "creating build/temp.linux-x86_64-cpython-39/home\n",
      "creating build/temp.linux-x86_64-cpython-39/home/uit-na\n",
      "creating build/temp.linux-x86_64-cpython-39/home/uit-na/Desktop\n",
      "creating build/temp.linux-x86_64-cpython-39/home/uit-na/Desktop/yolo_study\n",
      "creating build/temp.linux-x86_64-cpython-39/home/uit-na/Desktop/yolo_study/ByteTrack\n",
      "creating build/temp.linux-x86_64-cpython-39/home/uit-na/Desktop/yolo_study/ByteTrack/yolox\n",
      "creating build/temp.linux-x86_64-cpython-39/home/uit-na/Desktop/yolo_study/ByteTrack/yolox/layers\n",
      "creating build/temp.linux-x86_64-cpython-39/home/uit-na/Desktop/yolo_study/ByteTrack/yolox/layers/csrc\n",
      "creating build/temp.linux-x86_64-cpython-39/home/uit-na/Desktop/yolo_study/ByteTrack/yolox/layers/csrc/cocoeval\n",
      "gcc -pthread -B /home/uit-na/anaconda3/envs/hello/compiler_compat -Wno-unused-result -Wsign-compare -DNDEBUG -O2 -Wall -fPIC -O2 -isystem /home/uit-na/anaconda3/envs/hello/include -I/home/uit-na/anaconda3/envs/hello/include -fPIC -O2 -isystem /home/uit-na/anaconda3/envs/hello/include -fPIC -I/home/uit-na/Desktop/yolo_study/ByteTrack/yolox/layers/csrc -I/home/uit-na/anaconda3/envs/hello/lib/python3.9/site-packages/torch/include -I/home/uit-na/anaconda3/envs/hello/lib/python3.9/site-packages/torch/include/torch/csrc/api/include -I/home/uit-na/anaconda3/envs/hello/lib/python3.9/site-packages/torch/include/TH -I/home/uit-na/anaconda3/envs/hello/lib/python3.9/site-packages/torch/include/THC -I/home/uit-na/anaconda3/envs/hello/include/python3.9 -c /home/uit-na/Desktop/yolo_study/ByteTrack/yolox/layers/csrc/cocoeval/cocoeval.cpp -o build/temp.linux-x86_64-cpython-39/home/uit-na/Desktop/yolo_study/ByteTrack/yolox/layers/csrc/cocoeval/cocoeval.o -O3 -DTORCH_API_INCLUDE_EXTENSION_H -DPYBIND11_COMPILER_TYPE=\\\"_gcc\\\" -DPYBIND11_STDLIB=\\\"_libstdcpp\\\" -DPYBIND11_BUILD_ABI=\\\"_cxxabi1011\\\" -DTORCH_EXTENSION_NAME=_C -D_GLIBCXX_USE_CXX11_ABI=0 -std=c++14\n",
      "gcc -pthread -B /home/uit-na/anaconda3/envs/hello/compiler_compat -Wno-unused-result -Wsign-compare -DNDEBUG -O2 -Wall -fPIC -O2 -isystem /home/uit-na/anaconda3/envs/hello/include -I/home/uit-na/anaconda3/envs/hello/include -fPIC -O2 -isystem /home/uit-na/anaconda3/envs/hello/include -fPIC -I/home/uit-na/Desktop/yolo_study/ByteTrack/yolox/layers/csrc -I/home/uit-na/anaconda3/envs/hello/lib/python3.9/site-packages/torch/include -I/home/uit-na/anaconda3/envs/hello/lib/python3.9/site-packages/torch/include/torch/csrc/api/include -I/home/uit-na/anaconda3/envs/hello/lib/python3.9/site-packages/torch/include/TH -I/home/uit-na/anaconda3/envs/hello/lib/python3.9/site-packages/torch/include/THC -I/home/uit-na/anaconda3/envs/hello/include/python3.9 -c /home/uit-na/Desktop/yolo_study/ByteTrack/yolox/layers/csrc/vision.cpp -o build/temp.linux-x86_64-cpython-39/home/uit-na/Desktop/yolo_study/ByteTrack/yolox/layers/csrc/vision.o -O3 -DTORCH_API_INCLUDE_EXTENSION_H -DPYBIND11_COMPILER_TYPE=\\\"_gcc\\\" -DPYBIND11_STDLIB=\\\"_libstdcpp\\\" -DPYBIND11_BUILD_ABI=\\\"_cxxabi1011\\\" -DTORCH_EXTENSION_NAME=_C -D_GLIBCXX_USE_CXX11_ABI=0 -std=c++14\n",
      "creating build/lib.linux-x86_64-cpython-39\n",
      "creating build/lib.linux-x86_64-cpython-39/yolox\n",
      "g++ -pthread -B /home/uit-na/anaconda3/envs/hello/compiler_compat -shared -Wl,-rpath,/home/uit-na/anaconda3/envs/hello/lib -Wl,-rpath-link,/home/uit-na/anaconda3/envs/hello/lib -L/home/uit-na/anaconda3/envs/hello/lib -L/home/uit-na/anaconda3/envs/hello/lib -Wl,-rpath,/home/uit-na/anaconda3/envs/hello/lib -Wl,-rpath-link,/home/uit-na/anaconda3/envs/hello/lib -L/home/uit-na/anaconda3/envs/hello/lib build/temp.linux-x86_64-cpython-39/home/uit-na/Desktop/yolo_study/ByteTrack/yolox/layers/csrc/cocoeval/cocoeval.o build/temp.linux-x86_64-cpython-39/home/uit-na/Desktop/yolo_study/ByteTrack/yolox/layers/csrc/vision.o -L/home/uit-na/anaconda3/envs/hello/lib/python3.9/site-packages/torch/lib -lc10 -ltorch -ltorch_cpu -ltorch_python -o build/lib.linux-x86_64-cpython-39/yolox/_C.cpython-39-x86_64-linux-gnu.so\n",
      "copying build/lib.linux-x86_64-cpython-39/yolox/_C.cpython-39-x86_64-linux-gnu.so -> yolox\n",
      "Creating /home/uit-na/anaconda3/envs/hello/lib/python3.9/site-packages/yolox.egg-link (link to .)\n",
      "Adding yolox 0.1.0 to easy-install.pth file\n",
      "\n",
      "Installed /home/uit-na/Desktop/yolo_study/ByteTrack\n",
      "Processing dependencies for yolox==0.1.0\n",
      "Finished processing dependencies for yolox==0.1.0\n"
     ]
    }
   ],
   "source": [
    "!python setup.py develop"
   ]
  },
  {
   "cell_type": "code",
   "execution_count": null,
   "id": "e92bf14b",
   "metadata": {},
   "outputs": [],
   "source": []
  },
  {
   "cell_type": "code",
   "execution_count": null,
   "id": "19e09e20",
   "metadata": {},
   "outputs": [],
   "source": []
  }
 ],
 "metadata": {
  "kernelspec": {
   "display_name": "Python [conda env:hello] *",
   "language": "python",
   "name": "conda-env-hello-py"
  },
  "language_info": {
   "codemirror_mode": {
    "name": "ipython",
    "version": 3
   },
   "file_extension": ".py",
   "mimetype": "text/x-python",
   "name": "python",
   "nbconvert_exporter": "python",
   "pygments_lexer": "ipython3",
   "version": "3.9.13"
  }
 },
 "nbformat": 4,
 "nbformat_minor": 5
}
